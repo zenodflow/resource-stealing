{
 "cells": [
  {
   "cell_type": "code",
   "execution_count": 17,
   "metadata": {},
   "outputs": [],
   "source": [
    "import os\n",
    "_dir = os.getcwd()\n",
    "_result_dir = _dir + \"/results\"\n",
    "\n",
    "import cloudpickle as pickle\n",
    "import pprint as pp\n",
    "import pandas as pd\n",
    "import numpy as np\n",
    "import seaborn as sns\n",
    "import matplotlib.pyplot as plt"
   ]
  },
  {
   "cell_type": "markdown",
   "metadata": {},
   "source": [
    "### Plot 1: image pulling time over dockerd cpu shares"
   ]
  },
  {
   "cell_type": "markdown",
   "metadata": {},
   "source": [
    "Setup: 8 cores machine, docker 18.06, pigz decompression\n",
    "\n",
    "Result format:\n",
    "\n",
    "`[{'configs': {'docker_cpu_shares': 7168,\n",
    "              'dockerd_cpu_shares': 1024,\n",
    "              'trials': 1},\n",
    "  'name': 'baseline',\n",
    "  'results': [10.703615665435791]},\n",
    "  ...]`"
   ]
  },
  {
   "cell_type": "code",
   "execution_count": 18,
   "metadata": {
    "scrolled": true
   },
   "outputs": [],
   "source": [
    "with open(_result_dir + \"/httpd68c6.pickle\", \"rb\") as f:\n",
    "    results = pickle.load(f)"
   ]
  },
  {
   "cell_type": "code",
   "execution_count": 67,
   "metadata": {},
   "outputs": [],
   "source": [
    "x, means, stdvs = list(), list(), list()\n",
    "x_raw, y_raw = list(), list()\n",
    "for r in results:\n",
    "    x.append(r[\"name\"])\n",
    "    _values = r[\"results\"]\n",
    "    means.append(np.mean(_values))\n",
    "    stdvs.append(np.std(_values))\n",
    "    \n",
    "    x_raw += [r[\"name\"]] * len(values)\n",
    "    y_raw += _values"
   ]
  },
  {
   "cell_type": "code",
   "execution_count": 100,
   "metadata": {},
   "outputs": [
    {
     "data": {
      "image/png": "[encoded data removed]",
      "text/plain": [
       "<matplotlib.figure.Figure at 0x7f0ae7fd72b0>"
      ]
     },
     "metadata": {},
     "output_type": "display_data"
    }
   ],
   "source": [
    "df = pd.DataFrame({\"x\": x_raw, \"y\": y_raw})\n",
    "sns.set_style(\"dark\")\n",
    "ax = sns.barplot(x=\"x\", y=\"y\", data=df, \n",
    "                 palette=sns.color_palette(\"ch:2.5,-.2,dark=.3\", n_colors=10), ci=\"sd\", capsize=.1)\n",
    "\n",
    "ax.set_ylim(0, 19)\n",
    "ax.set_yticks(list(range(0, 20, 2)))\n",
    "ax.set_ylabel(\"Pulling Time (s)\", fontsize=14)\n",
    "ax.set_xlabel(\"Runtime CPU Shares\", fontsize=14, labelpad=6)\n",
    "ax.tick_params(axis='both', which='major', labelsize=12)"
   ]
  },
  {
   "cell_type": "markdown",
   "metadata": {},
   "source": [
    "### Plot 2: resource lending on/off"
   ]
  },
  {
   "cell_type": "markdown",
   "metadata": {},
   "source": [
    "### Plot 3: resource lending on/off"
   ]
  },
  {
   "cell_type": "code",
   "execution_count": null,
   "metadata": {},
   "outputs": [],
   "source": []
  }
 ],
 "metadata": {
  "kernelspec": {
   "display_name": "Python 3",
   "language": "python",
   "name": "python3"
  },
  "language_info": {
   "codemirror_mode": {
    "name": "ipython",
    "version": 3
   },
   "file_extension": ".py",
   "mimetype": "text/x-python",
   "name": "python",
   "nbconvert_exporter": "python",
   "pygments_lexer": "ipython3",
   "version": "3.6.9"
  }
 },
 "nbformat": 4,
 "nbformat_minor": 2
}
